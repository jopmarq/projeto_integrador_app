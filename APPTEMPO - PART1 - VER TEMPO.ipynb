{
 "cells": [
  {
   "cell_type": "markdown",
   "id": "f433860e-732b-41bb-9eb4-be6eaf986cad",
   "metadata": {},
   "source": [
    "APP TEMPO"
   ]
  },
  {
   "cell_type": "code",
   "execution_count": 32,
   "id": "254f4345-d500-4d5b-b110-9d5818a32949",
   "metadata": {},
   "outputs": [
    {
     "name": "stdout",
     "output_type": "stream",
     "text": [
      "Requirement already satisfied: meteomatics in c:\\users\\jpedr\\anaconda3\\envs\\notebook\\lib\\site-packages (2.11.2)\n",
      "Requirement already satisfied: isodate>=0.6.0 in c:\\users\\jpedr\\anaconda3\\envs\\notebook\\lib\\site-packages (from meteomatics) (0.6.1)\n",
      "Requirement already satisfied: requests>=2.21.0 in c:\\users\\jpedr\\anaconda3\\envs\\notebook\\lib\\site-packages (from meteomatics) (2.26.0)\n",
      "Requirement already satisfied: pandas>=0.18.1 in c:\\users\\jpedr\\anaconda3\\envs\\notebook\\lib\\site-packages (from meteomatics) (2.2.1)\n",
      "Requirement already satisfied: pathlib2>=2.3.5 in c:\\users\\jpedr\\anaconda3\\envs\\notebook\\lib\\site-packages (from meteomatics) (2.3.7.post1)\n",
      "Requirement already satisfied: pytz in c:\\users\\jpedr\\anaconda3\\envs\\notebook\\lib\\site-packages (from meteomatics) (2023.3.post1)\n",
      "Requirement already satisfied: six in c:\\users\\jpedr\\anaconda3\\envs\\notebook\\lib\\site-packages (from isodate>=0.6.0->meteomatics) (1.16.0)\n",
      "Requirement already satisfied: numpy<2,>=1.26.0 in c:\\users\\jpedr\\anaconda3\\envs\\notebook\\lib\\site-packages (from pandas>=0.18.1->meteomatics) (1.26.4)\n",
      "Requirement already satisfied: python-dateutil>=2.8.2 in c:\\users\\jpedr\\anaconda3\\envs\\notebook\\lib\\site-packages (from pandas>=0.18.1->meteomatics) (2.8.2)\n",
      "Requirement already satisfied: tzdata>=2022.7 in c:\\users\\jpedr\\anaconda3\\envs\\notebook\\lib\\site-packages (from pandas>=0.18.1->meteomatics) (2024.1)\n",
      "Requirement already satisfied: urllib3<1.27,>=1.21.1 in c:\\users\\jpedr\\anaconda3\\envs\\notebook\\lib\\site-packages (from requests>=2.21.0->meteomatics) (1.26.18)\n",
      "Requirement already satisfied: certifi>=2017.4.17 in c:\\users\\jpedr\\anaconda3\\envs\\notebook\\lib\\site-packages (from requests>=2.21.0->meteomatics) (2024.2.2)\n",
      "Requirement already satisfied: charset-normalizer~=2.0.0 in c:\\users\\jpedr\\anaconda3\\envs\\notebook\\lib\\site-packages (from requests>=2.21.0->meteomatics) (2.0.4)\n",
      "Requirement already satisfied: idna<4,>=2.5 in c:\\users\\jpedr\\anaconda3\\envs\\notebook\\lib\\site-packages (from requests>=2.21.0->meteomatics) (3.4)\n",
      "Requirement already satisfied: requests in c:\\users\\jpedr\\anaconda3\\envs\\notebook\\lib\\site-packages (2.26.0)\n",
      "Requirement already satisfied: urllib3<1.27,>=1.21.1 in c:\\users\\jpedr\\anaconda3\\envs\\notebook\\lib\\site-packages (from requests) (1.26.18)\n",
      "Requirement already satisfied: certifi>=2017.4.17 in c:\\users\\jpedr\\anaconda3\\envs\\notebook\\lib\\site-packages (from requests) (2024.2.2)\n",
      "Requirement already satisfied: charset-normalizer~=2.0.0 in c:\\users\\jpedr\\anaconda3\\envs\\notebook\\lib\\site-packages (from requests) (2.0.4)\n",
      "Requirement already satisfied: idna<4,>=2.5 in c:\\users\\jpedr\\anaconda3\\envs\\notebook\\lib\\site-packages (from requests) (3.4)\n"
     ]
    }
   ],
   "source": [
    "!pip install meteomatics\n",
    "!pip install requests"
   ]
  },
  {
   "cell_type": "markdown",
   "id": "45c53f57-d598-4740-b7d5-ea05ee5083c6",
   "metadata": {},
   "source": [
    "LOGIN"
   ]
  },
  {
   "cell_type": "code",
   "execution_count": 33,
   "id": "1ae719f0-9b4c-461c-8780-b1856e6d99b2",
   "metadata": {},
   "outputs": [],
   "source": [
    "import datetime as dt\n",
    "import meteomatics.api as api\n",
    "import requests\n",
    "\n",
    "#credencial\n",
    "username = 'estudante_marques_joopedro'\n",
    "password = 'D479srMKUg'"
   ]
  },
  {
   "cell_type": "markdown",
   "id": "0e53838d-1a8c-4008-b18c-17bd296157a5",
   "metadata": {},
   "source": [
    "Insira aqui uma data inicial, uma data final e o intervalo de tempo, todos como objetos de data e hora. O intervalo informa se você obtém os dados em etapas de hora em hora, em etapas diárias ou a cada cinco minutos entre a data de início e a data de término."
   ]
  },
  {
   "cell_type": "code",
   "execution_count": 40,
   "id": "40f6b6c8-a009-49ae-8737-159ba54754ee",
   "metadata": {},
   "outputs": [
    {
     "name": "stdout",
     "output_type": "stream",
     "text": [
      "Data inicial: 2024-03-27 15:30:00+00:00\n",
      "Data final: 2024-03-28 15:30:00+00:00\n",
      "Intervalo de tempo: 1:00:00\n"
     ]
    }
   ],
   "source": [
    "import datetime as dt\n",
    "\n",
    "now = dt.datetime.now(dt.timezone.utc).replace(hour=15, minute=30, second=0, microsecond=0)\n",
    "startdate_ts = now\n",
    "enddate_ts = startdate_ts + dt.timedelta(days=1)\n",
    "interval_ts = dt.timedelta(hours=1)\n",
    "\n",
    "print(\"Data inicial:\", startdate_ts)\n",
    "print(\"Data final:\", enddate_ts)\n",
    "print(\"Intervalo de tempo:\", interval_ts)\n"
   ]
  },
  {
   "cell_type": "markdown",
   "id": "fc86ecbe-e09b-4b7f-96f9-b2ec0fa430d6",
   "metadata": {},
   "source": [
    "Coloque as coordenadas que deseja obter como tuplas (norte/leste) em uma lista. Se você deseja obter as coordenadas do sul ou do oeste, basta escrever um sinal de menos na frente do número."
   ]
  },
  {
   "cell_type": "code",
   "execution_count": 41,
   "id": "1cad6b45-14d0-41f0-8b30-cffd64f4061b",
   "metadata": {},
   "outputs": [],
   "source": [
    "coordinates_ts = [(-15.6010, -56.0974), (-50.0, -10.0)]"
   ]
  },
  {
   "cell_type": "markdown",
   "id": "43189d29-6c11-4c39-92f3-97573afb6bb0",
   "metadata": {},
   "source": [
    "PARÂMETROS"
   ]
  },
  {
   "cell_type": "code",
   "execution_count": 42,
   "id": "2b6d33da-106e-4c30-8766-af124d8cfa0b",
   "metadata": {},
   "outputs": [],
   "source": [
    "parameters_ts = ['t_2m:C', 'precip_1h:mm']"
   ]
  },
  {
   "cell_type": "markdown",
   "id": "1de7fadf-6554-4480-aa26-ae968078631f",
   "metadata": {},
   "source": [
    "VERIFICAÇÃO DO PARÂMETRO"
   ]
  },
  {
   "cell_type": "code",
   "execution_count": 43,
   "id": "66fba67d-0734-467a-820f-bd7aff85125a",
   "metadata": {},
   "outputs": [
    {
     "name": "stdout",
     "output_type": "stream",
     "text": [
      "time series:\n",
      "                                            t_2m:C  precip_1h:mm\n",
      "lat     lon      validdate                                      \n",
      "-15.601 -56.0974 2024-03-27 15:30:00+00:00    28.3          0.00\n",
      "                 2024-03-27 16:30:00+00:00    28.8          0.11\n",
      "                 2024-03-27 17:30:00+00:00    28.7          0.04\n",
      "                 2024-03-27 18:30:00+00:00    28.0          0.00\n",
      "                 2024-03-27 19:30:00+00:00    26.9          0.25\n"
     ]
    }
   ],
   "source": [
    "print(\"time series:\")\n",
    "try:\n",
    "    df_ts = api.query_time_series(coordinates_ts, startdate_ts, enddate_ts, interval_ts,\n",
    "                                  parameters_ts, username, password)\n",
    "    print (df_ts.head())\n",
    "except Exception as e:\n",
    "    print(\"Failed, the exception is {}\".format(e))"
   ]
  },
  {
   "cell_type": "code",
   "execution_count": null,
   "id": "059b017a-d086-4526-b61b-a002eb775675",
   "metadata": {},
   "outputs": [],
   "source": []
  }
 ],
 "metadata": {
  "kernelspec": {
   "display_name": "Python 3 (ipykernel)",
   "language": "python",
   "name": "python3"
  },
  "language_info": {
   "codemirror_mode": {
    "name": "ipython",
    "version": 3
   },
   "file_extension": ".py",
   "mimetype": "text/x-python",
   "name": "python",
   "nbconvert_exporter": "python",
   "pygments_lexer": "ipython3",
   "version": "3.12.2"
  }
 },
 "nbformat": 4,
 "nbformat_minor": 5
}
